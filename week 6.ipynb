{
 "cells": [
  {
   "cell_type": "code",
   "execution_count": 1,
   "metadata": {},
   "outputs": [
    {
     "name": "stdout",
     "output_type": "stream",
     "text": [
      "Prediction for Day 15: Will play tennis? No\n"
     ]
    }
   ],
   "source": [
    "from collections import Counter\n",
    "\n",
    "data = [\n",
    "    {'Outlook': 'Sunny', 'Temp': 'Hot', 'Humidity': 'High', 'Wind': 'Weak', 'Play Tennis': 'No'},\n",
    "    {'Outlook': 'Sunny', 'Temp': 'Hot', 'Humidity': 'High', 'Wind': 'Strong', 'Play Tennis': 'No'},\n",
    "    {'Outlook': 'Overcast', 'Temp': 'Hot', 'Humidity': 'High', 'Wind': 'Weak', 'Play Tennis': 'Yes'},\n",
    "    {'Outlook': 'Rain', 'Temp': 'Mild', 'Humidity': 'High', 'Wind': 'Weak', 'Play Tennis': 'Yes'},\n",
    "    {'Outlook': 'Rain', 'Temp': 'Cold', 'Humidity': 'Normal', 'Wind': 'Weak', 'Play Tennis': 'Yes'},\n",
    "    {'Outlook': 'Rain', 'Temp': 'Cold', 'Humidity': 'Normal', 'Wind': 'Strong', 'Play Tennis': 'No'},\n",
    "    {'Outlook': 'Overcast', 'Temp': 'Cold', 'Humidity': 'Normal', 'Wind': 'Weak', 'Play Tennis': 'Yes'},\n",
    "    {'Outlook': 'Sunny', 'Temp': 'Mild', 'Humidity': 'High', 'Wind': 'Weak', 'Play Tennis': 'No'},\n",
    "    {'Outlook': 'Sunny', 'Temp': 'Cold', 'Humidity': 'Normal', 'Wind': 'Weak', 'Play Tennis': 'Yes'},\n",
    "    {'Outlook': 'Rain', 'Temp': 'Mild', 'Humidity': 'Normal', 'Wind': 'Strong', 'Play Tennis': 'Yes'},\n",
    "    {'Outlook': 'Sunny', 'Temp': 'Mild', 'Humidity': 'Normal', 'Wind': 'Strong', 'Play Tennis': 'Yes'},\n",
    "    {'Outlook': 'Overcast', 'Temp': 'Mild', 'Humidity': 'High', 'Wind': 'Strong', 'Play Tennis': 'Yes'},\n",
    "    {'Outlook': 'Overcast', 'Temp': 'Hot', 'Humidity': 'Normal', 'Wind': 'Weak', 'Play Tennis': 'Yes'},\n",
    "    {'Outlook': 'Rain', 'Temp': 'Mild', 'Humidity': 'High', 'Wind': 'Strong', 'Play Tennis': 'No'}\n",
    "]\n",
    "\n",
    "total_days = len(data)\n",
    "yes_count = sum(1 for day in data if day['Play Tennis'] == 'Yes')\n",
    "no_count = total_days - yes_count\n",
    "\n",
    "P_yes = yes_count / total_days\n",
    "P_no = no_count / total_days\n",
    "\n",
    "def calculate_likelihood(feature, value, target, dataset):\n",
    "    count = sum(1 for day in dataset if day[feature] == value and day['Play Tennis'] == target)\n",
    "    target_count = sum(1 for day in dataset if day['Play Tennis'] == target)\n",
    "    return count / target_count\n",
    "\n",
    "features_day_15 = {'Outlook': 'Sunny', 'Temp': 'Cold', 'Humidity': 'High', 'Wind': 'Strong'}\n",
    "\n",
    "P_yes_given_features = P_yes\n",
    "P_no_given_features = P_no\n",
    "\n",
    "for feature, value in features_day_15.items():\n",
    "    P_yes_given_features *= calculate_likelihood(feature, value, 'Yes', data)\n",
    "    P_no_given_features *= calculate_likelihood(feature, value, 'No', data)\n",
    "\n",
    "if P_yes_given_features > P_no_given_features:\n",
    "    prediction = 'Yes'\n",
    "else:\n",
    "    prediction = 'No'\n",
    "\n",
    "print(f\"Prediction for Day 15: Will play tennis? {prediction}\")\n"
   ]
  },
  {
   "cell_type": "code",
   "execution_count": 2,
   "metadata": {},
   "outputs": [
    {
     "name": "stdout",
     "output_type": "stream",
     "text": [
      "Prediction for the animal: mammals\n"
     ]
    }
   ],
   "source": [
    "from collections import Counter\n",
    "\n",
    "data = [\n",
    "    {'Give Birth': 'yes', 'Can Fly': 'no', 'Live in Water': 'no', 'Have Legs': 'yes', 'Class': 'mammals'},\n",
    "    {'Give Birth': 'no', 'Can Fly': 'no', 'Live in Water': 'no', 'Have Legs': 'no', 'Class': 'non-mammals'},\n",
    "    {'Give Birth': 'no', 'Can Fly': 'no', 'Live in Water': 'yes', 'Have Legs': 'no', 'Class': 'non-mammals'},\n",
    "    {'Give Birth': 'yes', 'Can Fly': 'no', 'Live in Water': 'yes', 'Have Legs': 'no', 'Class': 'mammals'},\n",
    "    {'Give Birth': 'no', 'Can Fly': 'no', 'Live in Water': 'sometimes', 'Have Legs': 'yes', 'Class': 'non-mammals'},\n",
    "    {'Give Birth': 'no', 'Can Fly': 'no', 'Live in Water': 'no', 'Have Legs': 'yes', 'Class': 'non-mammals'},\n",
    "    {'Give Birth': 'yes', 'Can Fly': 'yes', 'Live in Water': 'no', 'Have Legs': 'yes', 'Class': 'mammals'},\n",
    "    {'Give Birth': 'no', 'Can Fly': 'yes', 'Live in Water': 'no', 'Have Legs': 'yes', 'Class': 'non-mammals'},\n",
    "    {'Give Birth': 'yes', 'Can Fly': 'no', 'Live in Water': 'no', 'Have Legs': 'yes', 'Class': 'mammals'},\n",
    "    {'Give Birth': 'no', 'Can Fly': 'no', 'Live in Water': 'sometimes', 'Have Legs': 'yes', 'Class': 'non-mammals'},\n",
    "    {'Give Birth': 'no', 'Can Fly': 'no', 'Live in Water': 'sometimes', 'Have Legs': 'no', 'Class': 'non-mammals'},\n",
    "    {'Give Birth': 'yes', 'Can Fly': 'no', 'Live in Water': 'no', 'Have Legs': 'yes', 'Class': 'mammals'},\n",
    "    {'Give Birth': 'no', 'Can Fly': 'no', 'Live in Water': 'no', 'Have Legs': 'yes', 'Class': 'non-mammals'},\n",
    "    {'Give Birth': 'no', 'Can Fly': 'no', 'Live in Water': 'sometimes', 'Have Legs': 'yes', 'Class': 'non-mammals'},\n",
    "    {'Give Birth': 'yes', 'Can Fly': 'no', 'Live in Water': 'sometimes', 'Have Legs': 'yes', 'Class': 'mammals'},\n",
    "    {'Give Birth': 'yes', 'Can Fly': 'no', 'Live in Water': 'yes', 'Have Legs': 'no', 'Class': 'mammals'},\n",
    "    {'Give Birth': 'no', 'Can Fly': 'yes', 'Live in Water': 'no', 'Have Legs': 'yes', 'Class': 'non-mammals'},\n",
    "    {'Give Birth': 'yes', 'Can Fly': 'no', 'Live in Water': 'yes', 'Have Legs': 'no', 'Class': 'mammals'},\n",
    "    {'Give Birth': 'no', 'Can Fly': 'yes', 'Live in Water': 'no', 'Have Legs': 'yes', 'Class': 'non-mammals'}\n",
    "]\n",
    "\n",
    "total_observations = len(data)\n",
    "mammals_count = sum(1 for entry in data if entry['Class'] == 'mammals')\n",
    "non_mammals_count = total_observations - mammals_count\n",
    "\n",
    "P_mammals = mammals_count / total_observations\n",
    "P_non_mammals = non_mammals_count / total_observations\n",
    "\n",
    "def calculate_likelihood(feature, value, target, dataset):\n",
    "    count = sum(1 for entry in dataset if entry[feature] == value and entry['Class'] == target)\n",
    "    target_count = sum(1 for entry in dataset if entry['Class'] == target)\n",
    "    return count / target_count\n",
    "\n",
    "animal_features = {'Give Birth': 'yes', 'Can Fly': 'no', 'Live in Water': 'yes', 'Have Legs': 'no'}\n",
    "\n",
    "P_mammals_given_features = P_mammals\n",
    "P_non_mammals_given_features = P_non_mammals\n",
    "\n",
    "for feature, value in animal_features.items():\n",
    "    P_mammals_given_features *= calculate_likelihood(feature, value, 'mammals', data)\n",
    "    P_non_mammals_given_features *= calculate_likelihood(feature, value, 'non-mammals', data)\n",
    "\n",
    "if P_mammals_given_features > P_non_mammals_given_features:\n",
    "    prediction = 'mammals'\n",
    "else:\n",
    "    prediction = 'non-mammals'\n",
    "\n",
    "print(f\"Prediction for the animal: {prediction}\")\n"
   ]
  }
 ],
 "metadata": {
  "kernelspec": {
   "display_name": "Python 3",
   "language": "python",
   "name": "python3"
  },
  "language_info": {
   "codemirror_mode": {
    "name": "ipython",
    "version": 3
   },
   "file_extension": ".py",
   "mimetype": "text/x-python",
   "name": "python",
   "nbconvert_exporter": "python",
   "pygments_lexer": "ipython3",
   "version": "3.12.0"
  }
 },
 "nbformat": 4,
 "nbformat_minor": 2
}
